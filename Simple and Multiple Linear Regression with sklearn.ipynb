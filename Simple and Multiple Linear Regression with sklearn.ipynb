{
 "cells": [
  {
   "cell_type": "code",
   "execution_count": 2,
   "id": "12b13e42",
   "metadata": {},
   "outputs": [],
   "source": [
    "import numpy as np\n",
    "import pandas as pd\n",
    "import matplotlib.pyplot as plt\n",
    "import statsmodels.api as sm\n",
    "import seaborn as sns\n",
    "#override matplot styles to use seaboran\n",
    "sns.set()\n",
    "\n",
    "from sklearn.linear_model import LinearRegression"
   ]
  },
  {
   "cell_type": "code",
   "execution_count": 3,
   "id": "7fc79458",
   "metadata": {},
   "outputs": [],
   "source": [
    "#using pandas method read the data file\n",
    "#dat will be auto converted to dataframe\n",
    "data = pd.read_csv('data/1.02. Multiple linear regression.csv')"
   ]
  },
  {
   "cell_type": "code",
   "execution_count": 4,
   "id": "8e55116e",
   "metadata": {},
   "outputs": [
    {
     "data": {
      "text/html": [
       "<div>\n",
       "<style scoped>\n",
       "    .dataframe tbody tr th:only-of-type {\n",
       "        vertical-align: middle;\n",
       "    }\n",
       "\n",
       "    .dataframe tbody tr th {\n",
       "        vertical-align: top;\n",
       "    }\n",
       "\n",
       "    .dataframe thead th {\n",
       "        text-align: right;\n",
       "    }\n",
       "</style>\n",
       "<table border=\"1\" class=\"dataframe\">\n",
       "  <thead>\n",
       "    <tr style=\"text-align: right;\">\n",
       "      <th></th>\n",
       "      <th>SAT</th>\n",
       "      <th>Rand 1,2,3</th>\n",
       "      <th>GPA</th>\n",
       "    </tr>\n",
       "  </thead>\n",
       "  <tbody>\n",
       "    <tr>\n",
       "      <th>0</th>\n",
       "      <td>1714</td>\n",
       "      <td>1</td>\n",
       "      <td>2.40</td>\n",
       "    </tr>\n",
       "    <tr>\n",
       "      <th>1</th>\n",
       "      <td>1664</td>\n",
       "      <td>3</td>\n",
       "      <td>2.52</td>\n",
       "    </tr>\n",
       "    <tr>\n",
       "      <th>2</th>\n",
       "      <td>1760</td>\n",
       "      <td>3</td>\n",
       "      <td>2.54</td>\n",
       "    </tr>\n",
       "    <tr>\n",
       "      <th>3</th>\n",
       "      <td>1685</td>\n",
       "      <td>3</td>\n",
       "      <td>2.74</td>\n",
       "    </tr>\n",
       "    <tr>\n",
       "      <th>4</th>\n",
       "      <td>1693</td>\n",
       "      <td>2</td>\n",
       "      <td>2.83</td>\n",
       "    </tr>\n",
       "  </tbody>\n",
       "</table>\n",
       "</div>"
      ],
      "text/plain": [
       "    SAT  Rand 1,2,3   GPA\n",
       "0  1714           1  2.40\n",
       "1  1664           3  2.52\n",
       "2  1760           3  2.54\n",
       "3  1685           3  2.74\n",
       "4  1693           2  2.83"
      ]
     },
     "execution_count": 4,
     "metadata": {},
     "output_type": "execute_result"
    }
   ],
   "source": [
    "data.head()"
   ]
  },
  {
   "cell_type": "code",
   "execution_count": 5,
   "id": "eb0de93d",
   "metadata": {},
   "outputs": [],
   "source": [
    "X = data['SAT']\n",
    "y = data['GPA']"
   ]
  },
  {
   "cell_type": "code",
   "execution_count": 6,
   "id": "b3d95537",
   "metadata": {},
   "outputs": [],
   "source": [
    "X_matrix = X.values.reshape(-1,1)"
   ]
  },
  {
   "cell_type": "code",
   "execution_count": 7,
   "id": "c6643b2a",
   "metadata": {},
   "outputs": [
    {
     "name": "stdout",
     "output_type": "stream",
     "text": [
      "[0.00165569]\n",
      "0.2750402996602803\n"
     ]
    }
   ],
   "source": [
    "reg = LinearRegression()\n",
    "reg.fit(X_matrix,y)\n",
    "print(reg.coef_)\n",
    "print(reg.intercept_)"
   ]
  },
  {
   "cell_type": "code",
   "execution_count": 8,
   "id": "edd10103",
   "metadata": {},
   "outputs": [
    {
     "data": {
      "text/plain": [
       "Index(['SAT', 'Rand 1,2,3', 'GPA'], dtype='object')"
      ]
     },
     "execution_count": 8,
     "metadata": {},
     "output_type": "execute_result"
    }
   ],
   "source": [
    "data.columns"
   ]
  },
  {
   "cell_type": "code",
   "execution_count": 9,
   "id": "17a827b7",
   "metadata": {},
   "outputs": [],
   "source": [
    "X = data[['SAT','Rand 1,2,3']]\n",
    "y = data['GPA']"
   ]
  },
  {
   "cell_type": "code",
   "execution_count": 10,
   "id": "19bd5e34",
   "metadata": {
    "scrolled": true
   },
   "outputs": [
    {
     "name": "stdout",
     "output_type": "stream",
     "text": [
      "[ 0.00165354 -0.00826982]\n",
      "0.29603261264909486\n"
     ]
    }
   ],
   "source": [
    "#multiple regression\n",
    "reg = LinearRegression()\n",
    "reg.fit(X,y)\n",
    "print(reg.coef_)\n",
    "print(reg.intercept_)"
   ]
  },
  {
   "cell_type": "code",
   "execution_count": 11,
   "id": "7ffeb8ff",
   "metadata": {},
   "outputs": [
    {
     "data": {
      "text/plain": [
       "0.40668119528142843"
      ]
     },
     "execution_count": 11,
     "metadata": {},
     "output_type": "execute_result"
    }
   ],
   "source": [
    "#Calculated R-squared.  Measuring goodness of fit\n",
    "#R-squared of linear is the same for simple and multiple regression\n",
    "d"
   ]
  },
  {
   "cell_type": "markdown",
   "id": "87e02e78",
   "metadata": {},
   "source": [
    "### Formula for Ajusted R^2\n",
    "\n",
    "$R^2_{adj.} = 1 - (1-R^2)*\\frac{n-1}{n-p-1}$"
   ]
  },
  {
   "cell_type": "code",
   "execution_count": 12,
   "id": "1c327160",
   "metadata": {},
   "outputs": [
    {
     "data": {
      "text/plain": [
       "(84, 2)"
      ]
     },
     "execution_count": 12,
     "metadata": {},
     "output_type": "execute_result"
    }
   ],
   "source": [
    "#adjusted R-Score is more appropriate for the multiple regression\n",
    "#adjust for the number of variables included in the model\n",
    "#if we are using variable that dont add value, adjusted Rsquare \n",
    "#would increase\n",
    "X.shape"
   ]
  },
  {
   "cell_type": "markdown",
   "id": "59e873d3",
   "metadata": {},
   "source": [
    "### n = 84 (number of observations - rows)\n",
    "### p = 2 (number of predictors- SAT and Rand - columns)"
   ]
  },
  {
   "cell_type": "code",
   "execution_count": 13,
   "id": "7d05ad5c",
   "metadata": {},
   "outputs": [
    {
     "data": {
      "text/plain": [
       "0.39203134825134023"
      ]
     },
     "execution_count": 13,
     "metadata": {},
     "output_type": "execute_result"
    }
   ],
   "source": [
    "r2 = reg.score(X,y)\n",
    "n = X.shape[0]\n",
    "p = X.shape[1]\n",
    "adjusted_r2 = 1 - (1-r2)*(n-1)/(n-p-1)\n",
    "adjusted_r2"
   ]
  },
  {
   "cell_type": "code",
   "execution_count": 14,
   "id": "3a31919c",
   "metadata": {},
   "outputs": [],
   "source": [
    "#can confirm value using the stats model\n",
    "x1=X\n",
    "x = sm.add_constant(x1)\n",
    "results = sm.OLS(y,x).fit()\n",
    "#results.summary()"
   ]
  },
  {
   "cell_type": "markdown",
   "id": "619a1f65",
   "metadata": {},
   "source": [
    "#### The Adj R squared (.392) is less than R2 (.406) so one or more of my predictors have little to no explanatory power\n",
    "\n",
    "If a P value has a value above 0.05, you can disregard it"
   ]
  },
  {
   "cell_type": "code",
   "execution_count": 15,
   "id": "b567d21f",
   "metadata": {},
   "outputs": [],
   "source": [
    "#feature_selection.f_regression\n",
    "#F-regression - creates a simple linear regression of each \n",
    "#feature and the dependent variable"
   ]
  },
  {
   "cell_type": "code",
   "execution_count": 16,
   "id": "b1d4f210",
   "metadata": {},
   "outputs": [],
   "source": [
    "#How to detect variables that are unneeded in a model?\n",
    "#Feature selection using pvalues\n",
    "#results.summary()\n",
    "\n",
    "#1- we predict GPA with SAT\n",
    "#2- we predict GP with Rand 1,2,3\n",
    "\n",
    "#Note that for a simple linear regression, \n",
    "#p-value of F-stat = the pvalue of the only independe variable\n",
    "\n",
    "from sklearn.feature_selection import f_regression"
   ]
  },
  {
   "cell_type": "code",
   "execution_count": 17,
   "id": "7924a0e9",
   "metadata": {
    "scrolled": true
   },
   "outputs": [
    {
     "data": {
      "text/plain": [
       "(array([56.04804786,  0.17558437]), array([7.19951844e-11, 6.76291372e-01]))"
      ]
     },
     "execution_count": 17,
     "metadata": {},
     "output_type": "execute_result"
    }
   ],
   "source": [
    "f_regression(X,y)"
   ]
  },
  {
   "cell_type": "code",
   "execution_count": 18,
   "id": "0aa3690e",
   "metadata": {},
   "outputs": [
    {
     "data": {
      "text/plain": [
       "array([7.19951844e-11, 6.76291372e-01])"
      ]
     },
     "execution_count": 18,
     "metadata": {},
     "output_type": "execute_result"
    }
   ],
   "source": [
    "#### 2 output arrays\n",
    "#### 1 - F-statistics\n",
    "#### 2 - p values\n",
    "p_values = f_regression(X,y)[1]\n",
    "p_values"
   ]
  },
  {
   "cell_type": "code",
   "execution_count": 19,
   "id": "74c510da",
   "metadata": {},
   "outputs": [
    {
     "data": {
      "text/plain": [
       "array([0.   , 0.676])"
      ]
     },
     "execution_count": 19,
     "metadata": {},
     "output_type": "execute_result"
    }
   ],
   "source": [
    "#convert from scientific notation\n",
    "p_values.round(3)"
   ]
  },
  {
   "cell_type": "code",
   "execution_count": 20,
   "id": "1c0af97f",
   "metadata": {},
   "outputs": [
    {
     "name": "stdout",
     "output_type": "stream",
     "text": [
      "[('SAT', 0.0), ('Rand 1,2,3', 0.676)]\n"
     ]
    }
   ],
   "source": [
    "feature_cols = ['SAT','Rand 1,2,3']\n",
    "print(list(zip(feature_cols,p_values.round(3))))"
   ]
  },
  {
   "cell_type": "markdown",
   "id": "54495a40",
   "metadata": {},
   "source": [
    "#### SAT is a useful variable while Rand 1,2,3 is useless\n",
    "\n",
    "    These are the univariate pvalues reached from simple linear regression.  They do not reflect the interconnection of the feature in our multiple linear regression\n",
    "    \n",
    "    f_regression should be used with caution because its too simplistic for complicated problems. \n",
    "    "
   ]
  },
  {
   "cell_type": "code",
   "execution_count": 21,
   "id": "8d6d1c8c",
   "metadata": {},
   "outputs": [
    {
     "data": {
      "text/html": [
       "<div>\n",
       "<style scoped>\n",
       "    .dataframe tbody tr th:only-of-type {\n",
       "        vertical-align: middle;\n",
       "    }\n",
       "\n",
       "    .dataframe tbody tr th {\n",
       "        vertical-align: top;\n",
       "    }\n",
       "\n",
       "    .dataframe thead th {\n",
       "        text-align: right;\n",
       "    }\n",
       "</style>\n",
       "<table border=\"1\" class=\"dataframe\">\n",
       "  <thead>\n",
       "    <tr style=\"text-align: right;\">\n",
       "      <th></th>\n",
       "      <th>Features</th>\n",
       "    </tr>\n",
       "  </thead>\n",
       "  <tbody>\n",
       "    <tr>\n",
       "      <th>0</th>\n",
       "      <td>SAT</td>\n",
       "    </tr>\n",
       "    <tr>\n",
       "      <th>1</th>\n",
       "      <td>Rand 1,2,3</td>\n",
       "    </tr>\n",
       "  </tbody>\n",
       "</table>\n",
       "</div>"
      ],
      "text/plain": [
       "     Features\n",
       "0         SAT\n",
       "1  Rand 1,2,3"
      ]
     },
     "execution_count": 21,
     "metadata": {},
     "output_type": "execute_result"
    }
   ],
   "source": [
    "#creating  a summary table\n",
    "reg_summary = pd.DataFrame(X.columns.values, columns=['Features'])\n",
    "reg_summary"
   ]
  },
  {
   "cell_type": "code",
   "execution_count": 22,
   "id": "009b3982",
   "metadata": {},
   "outputs": [],
   "source": [
    "reg_summary['coefficients'] = reg.coef_\n",
    "reg_summary['p-values'] = p_values.round(3)"
   ]
  },
  {
   "cell_type": "code",
   "execution_count": 23,
   "id": "e451a77a",
   "metadata": {},
   "outputs": [
    {
     "data": {
      "text/html": [
       "<div>\n",
       "<style scoped>\n",
       "    .dataframe tbody tr th:only-of-type {\n",
       "        vertical-align: middle;\n",
       "    }\n",
       "\n",
       "    .dataframe tbody tr th {\n",
       "        vertical-align: top;\n",
       "    }\n",
       "\n",
       "    .dataframe thead th {\n",
       "        text-align: right;\n",
       "    }\n",
       "</style>\n",
       "<table border=\"1\" class=\"dataframe\">\n",
       "  <thead>\n",
       "    <tr style=\"text-align: right;\">\n",
       "      <th></th>\n",
       "      <th>Features</th>\n",
       "      <th>coefficients</th>\n",
       "      <th>p-values</th>\n",
       "    </tr>\n",
       "  </thead>\n",
       "  <tbody>\n",
       "    <tr>\n",
       "      <th>0</th>\n",
       "      <td>SAT</td>\n",
       "      <td>0.001654</td>\n",
       "      <td>0.000</td>\n",
       "    </tr>\n",
       "    <tr>\n",
       "      <th>1</th>\n",
       "      <td>Rand 1,2,3</td>\n",
       "      <td>-0.008270</td>\n",
       "      <td>0.676</td>\n",
       "    </tr>\n",
       "  </tbody>\n",
       "</table>\n",
       "</div>"
      ],
      "text/plain": [
       "     Features  coefficients  p-values\n",
       "0         SAT      0.001654     0.000\n",
       "1  Rand 1,2,3     -0.008270     0.676"
      ]
     },
     "execution_count": 23,
     "metadata": {},
     "output_type": "execute_result"
    }
   ],
   "source": [
    "reg_summary"
   ]
  },
  {
   "cell_type": "markdown",
   "id": "d1dbd07a",
   "metadata": {},
   "source": [
    "#### conclusion:  Rand does not contribute to our model"
   ]
  },
  {
   "cell_type": "markdown",
   "id": "e5485a86",
   "metadata": {},
   "source": [
    "#Pvalues are one of the best ways to determine if a variable\n",
    "#is redundant but do not provide information about how \n",
    "#useful a variable is\n",
    "\n",
    "#2 values may both have 0.000 but that does not make the \n",
    "#variables equally important\n",
    "\n"
   ]
  },
  {
   "cell_type": "markdown",
   "id": "8b16d9c3",
   "metadata": {},
   "source": [
    "#### standardization"
   ]
  },
  {
   "cell_type": "code",
   "execution_count": 24,
   "id": "a0db5c97",
   "metadata": {},
   "outputs": [],
   "source": [
    "#import module\n",
    "from sklearn.preprocessing import StandardScaler"
   ]
  },
  {
   "cell_type": "code",
   "execution_count": 25,
   "id": "7cf2f281",
   "metadata": {},
   "outputs": [],
   "source": [
    "scaler = StandardScaler()"
   ]
  },
  {
   "cell_type": "markdown",
   "id": "59f8744b",
   "metadata": {},
   "source": [
    "#scaler will be used to substract the mean and divide by \n",
    "#the standard deviation by each point.\n",
    "#then we are going to fit our data\n",
    "\n"
   ]
  },
  {
   "cell_type": "code",
   "execution_count": 26,
   "id": "5128f5e1",
   "metadata": {},
   "outputs": [
    {
     "data": {
      "text/plain": [
       "array([[-1.26338288, -1.24637147],\n",
       "       [-1.74458431,  1.10632974],\n",
       "       [-0.82067757,  1.10632974]])"
      ]
     },
     "execution_count": 26,
     "metadata": {},
     "output_type": "execute_result"
    }
   ],
   "source": [
    "#calculate the mean and standard deviation of each feature\n",
    "\n",
    "\n",
    "#Apply the scaler mechanism\n",
    "scaler.fit(X)\n",
    "\n",
    "#transform the data by substracting the mean and dividing \n",
    "#the standard deviation\n",
    "x_scaled = scaler.transform(X)\n",
    "\n",
    "#can see all the new data has been standarized\n",
    "x_scaled[0:3]\n",
    "    \n",
    "    \n",
    "#most commonly used\n",
    "#new_data_scaled = scaler_transform(new_data)"
   ]
  },
  {
   "cell_type": "code",
   "execution_count": 27,
   "id": "c7b625de",
   "metadata": {},
   "outputs": [
    {
     "data": {
      "text/html": [
       "<div>\n",
       "<style scoped>\n",
       "    .dataframe tbody tr th:only-of-type {\n",
       "        vertical-align: middle;\n",
       "    }\n",
       "\n",
       "    .dataframe tbody tr th {\n",
       "        vertical-align: top;\n",
       "    }\n",
       "\n",
       "    .dataframe thead th {\n",
       "        text-align: right;\n",
       "    }\n",
       "</style>\n",
       "<table border=\"1\" class=\"dataframe\">\n",
       "  <thead>\n",
       "    <tr style=\"text-align: right;\">\n",
       "      <th></th>\n",
       "      <th>SAT</th>\n",
       "      <th>Rand 1,2,3</th>\n",
       "      <th>GPA</th>\n",
       "    </tr>\n",
       "  </thead>\n",
       "  <tbody>\n",
       "    <tr>\n",
       "      <th>count</th>\n",
       "      <td>84.000000</td>\n",
       "      <td>84.000000</td>\n",
       "      <td>84.000000</td>\n",
       "    </tr>\n",
       "    <tr>\n",
       "      <th>mean</th>\n",
       "      <td>1845.273810</td>\n",
       "      <td>2.059524</td>\n",
       "      <td>3.330238</td>\n",
       "    </tr>\n",
       "    <tr>\n",
       "      <th>std</th>\n",
       "      <td>104.530661</td>\n",
       "      <td>0.855192</td>\n",
       "      <td>0.271617</td>\n",
       "    </tr>\n",
       "    <tr>\n",
       "      <th>min</th>\n",
       "      <td>1634.000000</td>\n",
       "      <td>1.000000</td>\n",
       "      <td>2.400000</td>\n",
       "    </tr>\n",
       "    <tr>\n",
       "      <th>25%</th>\n",
       "      <td>1772.000000</td>\n",
       "      <td>1.000000</td>\n",
       "      <td>3.190000</td>\n",
       "    </tr>\n",
       "    <tr>\n",
       "      <th>50%</th>\n",
       "      <td>1846.000000</td>\n",
       "      <td>2.000000</td>\n",
       "      <td>3.380000</td>\n",
       "    </tr>\n",
       "    <tr>\n",
       "      <th>75%</th>\n",
       "      <td>1934.000000</td>\n",
       "      <td>3.000000</td>\n",
       "      <td>3.502500</td>\n",
       "    </tr>\n",
       "    <tr>\n",
       "      <th>max</th>\n",
       "      <td>2050.000000</td>\n",
       "      <td>3.000000</td>\n",
       "      <td>3.810000</td>\n",
       "    </tr>\n",
       "  </tbody>\n",
       "</table>\n",
       "</div>"
      ],
      "text/plain": [
       "               SAT  Rand 1,2,3        GPA\n",
       "count    84.000000   84.000000  84.000000\n",
       "mean   1845.273810    2.059524   3.330238\n",
       "std     104.530661    0.855192   0.271617\n",
       "min    1634.000000    1.000000   2.400000\n",
       "25%    1772.000000    1.000000   3.190000\n",
       "50%    1846.000000    2.000000   3.380000\n",
       "75%    1934.000000    3.000000   3.502500\n",
       "max    2050.000000    3.000000   3.810000"
      ]
     },
     "execution_count": 27,
     "metadata": {},
     "output_type": "execute_result"
    }
   ],
   "source": [
    "#When ever you get new data, know that all the standardized\n",
    "#information is in the scaler\n",
    "\n",
    "#Before standardization, when we calculated the coefficients\n",
    "#of each variable, we could not see the affect of each \n",
    "#variable on the output\n",
    "\n",
    "#because SAT has a range between 1634 - 2050\n",
    "#and Rand has a range between 1 - 3\n",
    "data.describe()"
   ]
  },
  {
   "cell_type": "code",
   "execution_count": 28,
   "id": "4f95a905",
   "metadata": {},
   "outputs": [
    {
     "data": {
      "text/html": [
       "<div>\n",
       "<style scoped>\n",
       "    .dataframe tbody tr th:only-of-type {\n",
       "        vertical-align: middle;\n",
       "    }\n",
       "\n",
       "    .dataframe tbody tr th {\n",
       "        vertical-align: top;\n",
       "    }\n",
       "\n",
       "    .dataframe thead th {\n",
       "        text-align: right;\n",
       "    }\n",
       "</style>\n",
       "<table border=\"1\" class=\"dataframe\">\n",
       "  <thead>\n",
       "    <tr style=\"text-align: right;\">\n",
       "      <th></th>\n",
       "      <th>Features</th>\n",
       "      <th>coefficients</th>\n",
       "      <th>p-values</th>\n",
       "    </tr>\n",
       "  </thead>\n",
       "  <tbody>\n",
       "    <tr>\n",
       "      <th>0</th>\n",
       "      <td>SAT</td>\n",
       "      <td>0.001654</td>\n",
       "      <td>0.000</td>\n",
       "    </tr>\n",
       "    <tr>\n",
       "      <th>1</th>\n",
       "      <td>Rand 1,2,3</td>\n",
       "      <td>-0.008270</td>\n",
       "      <td>0.676</td>\n",
       "    </tr>\n",
       "  </tbody>\n",
       "</table>\n",
       "</div>"
      ],
      "text/plain": [
       "     Features  coefficients  p-values\n",
       "0         SAT      0.001654     0.000\n",
       "1  Rand 1,2,3     -0.008270     0.676"
      ]
     },
     "execution_count": 28,
     "metadata": {},
     "output_type": "execute_result"
    }
   ],
   "source": [
    "#the respective coefficients were\n",
    "reg_summary"
   ]
  },
  {
   "cell_type": "markdown",
   "id": "edf5a9b3",
   "metadata": {},
   "source": [
    "#### Notes:\n",
    "it seems like Rand has a bigger impact because it has a bigger coefficient\n",
    "however this could be wrong\n",
    "Since SAT has a bigger magnituide meaning the number are alot bigger, it more important\n",
    "\n",
    "Feature scaling allows all features of the same magnitude to compare their impact\n",
    "\n",
    "Now create new Regression with scaled inputs\n"
   ]
  },
  {
   "cell_type": "markdown",
   "id": "66579bd3",
   "metadata": {},
   "source": [
    "#### Regression with Scaled features"
   ]
  },
  {
   "cell_type": "code",
   "execution_count": 29,
   "id": "d343d49c",
   "metadata": {},
   "outputs": [
    {
     "data": {
      "text/plain": [
       "LinearRegression()"
      ]
     },
     "execution_count": 29,
     "metadata": {},
     "output_type": "execute_result"
    }
   ],
   "source": [
    "reg = LinearRegression()\n",
    "reg.fit(x_scaled,y)      #here we are training the model using \n",
    "                         #the standardized inputs\n",
    "                         #reg is our model"
   ]
  },
  {
   "cell_type": "code",
   "execution_count": 30,
   "id": "e11caf95",
   "metadata": {},
   "outputs": [
    {
     "data": {
      "text/plain": [
       "array([[-1.26338288, -1.24637147],\n",
       "       [-1.74458431,  1.10632974],\n",
       "       [-0.82067757,  1.10632974],\n",
       "       [-1.54247971,  1.10632974],\n",
       "       [-1.46548748, -0.07002087],\n",
       "       [-1.68684014, -1.24637147],\n",
       "       [-0.78218146, -0.07002087],\n",
       "       [-0.78218146, -1.24637147],\n",
       "       [-0.51270866, -0.07002087],\n",
       "       [ 0.04548499,  1.10632974]])"
      ]
     },
     "execution_count": 30,
     "metadata": {},
     "output_type": "execute_result"
    }
   ],
   "source": [
    "x_scaled[:10]\n"
   ]
  },
  {
   "cell_type": "code",
   "execution_count": 31,
   "id": "a201ecf6",
   "metadata": {},
   "outputs": [
    {
     "data": {
      "text/plain": [
       "array([ 0.17181389, -0.00703007])"
      ]
     },
     "execution_count": 31,
     "metadata": {},
     "output_type": "execute_result"
    }
   ],
   "source": [
    "reg.coef_"
   ]
  },
  {
   "cell_type": "code",
   "execution_count": 32,
   "id": "672bac35",
   "metadata": {},
   "outputs": [
    {
     "data": {
      "text/plain": [
       "3.330238095238095"
      ]
     },
     "execution_count": 32,
     "metadata": {},
     "output_type": "execute_result"
    }
   ],
   "source": [
    "reg.intercept_"
   ]
  },
  {
   "cell_type": "code",
   "execution_count": 33,
   "id": "aa7a2418",
   "metadata": {},
   "outputs": [],
   "source": [
    "reg_summary = pd.DataFrame([['Intercept'],['SAT'],['Rand 1,2,3']], columns=['Features'])"
   ]
  },
  {
   "cell_type": "code",
   "execution_count": 34,
   "id": "5dfedf70",
   "metadata": {},
   "outputs": [
    {
     "data": {
      "text/html": [
       "<div>\n",
       "<style scoped>\n",
       "    .dataframe tbody tr th:only-of-type {\n",
       "        vertical-align: middle;\n",
       "    }\n",
       "\n",
       "    .dataframe tbody tr th {\n",
       "        vertical-align: top;\n",
       "    }\n",
       "\n",
       "    .dataframe thead th {\n",
       "        text-align: right;\n",
       "    }\n",
       "</style>\n",
       "<table border=\"1\" class=\"dataframe\">\n",
       "  <thead>\n",
       "    <tr style=\"text-align: right;\">\n",
       "      <th></th>\n",
       "      <th>Features</th>\n",
       "      <th>Weights</th>\n",
       "    </tr>\n",
       "  </thead>\n",
       "  <tbody>\n",
       "    <tr>\n",
       "      <th>0</th>\n",
       "      <td>Intercept</td>\n",
       "      <td>3.330238</td>\n",
       "    </tr>\n",
       "    <tr>\n",
       "      <th>1</th>\n",
       "      <td>SAT</td>\n",
       "      <td>0.171814</td>\n",
       "    </tr>\n",
       "    <tr>\n",
       "      <th>2</th>\n",
       "      <td>Rand 1,2,3</td>\n",
       "      <td>-0.007030</td>\n",
       "    </tr>\n",
       "  </tbody>\n",
       "</table>\n",
       "</div>"
      ],
      "text/plain": [
       "     Features   Weights\n",
       "0   Intercept  3.330238\n",
       "1         SAT  0.171814\n",
       "2  Rand 1,2,3 -0.007030"
      ]
     },
     "execution_count": 34,
     "metadata": {},
     "output_type": "execute_result"
    }
   ],
   "source": [
    "#Let create a new series in the dataframe called weights\n",
    "#Weights will include the intercepts and 2 coefficients\n",
    "reg_summary['Weights'] = reg.intercept_, reg.coef_[0],reg.coef_[1]\n",
    "reg_summary\n",
    " "
   ]
  },
  {
   "cell_type": "markdown",
   "id": "8d1ef87d",
   "metadata": {},
   "source": [
    "### the bigger the weight, the bigger the impact on the regression\n",
    "It carries weight on teh result\n",
    "\n",
    "The ML word for intercept is bias.  Nothign but a number that adjust our number\n",
    "with some constant\n",
    "\n",
    "If we adjust the number with a constant then the number is biased."
   ]
  },
  {
   "cell_type": "code",
   "execution_count": 35,
   "id": "70d7111d",
   "metadata": {},
   "outputs": [
    {
     "data": {
      "text/html": [
       "<div>\n",
       "<style scoped>\n",
       "    .dataframe tbody tr th:only-of-type {\n",
       "        vertical-align: middle;\n",
       "    }\n",
       "\n",
       "    .dataframe tbody tr th {\n",
       "        vertical-align: top;\n",
       "    }\n",
       "\n",
       "    .dataframe thead th {\n",
       "        text-align: right;\n",
       "    }\n",
       "</style>\n",
       "<table border=\"1\" class=\"dataframe\">\n",
       "  <thead>\n",
       "    <tr style=\"text-align: right;\">\n",
       "      <th></th>\n",
       "      <th>Features</th>\n",
       "      <th>Weights</th>\n",
       "    </tr>\n",
       "  </thead>\n",
       "  <tbody>\n",
       "    <tr>\n",
       "      <th>0</th>\n",
       "      <td>Bias</td>\n",
       "      <td>3.330238</td>\n",
       "    </tr>\n",
       "    <tr>\n",
       "      <th>1</th>\n",
       "      <td>SAT</td>\n",
       "      <td>0.171814</td>\n",
       "    </tr>\n",
       "    <tr>\n",
       "      <th>2</th>\n",
       "      <td>Rand 1,2,3</td>\n",
       "      <td>-0.007030</td>\n",
       "    </tr>\n",
       "  </tbody>\n",
       "</table>\n",
       "</div>"
      ],
      "text/plain": [
       "     Features   Weights\n",
       "0        Bias  3.330238\n",
       "1         SAT  0.171814\n",
       "2  Rand 1,2,3 -0.007030"
      ]
     },
     "execution_count": 35,
     "metadata": {},
     "output_type": "execute_result"
    }
   ],
   "source": [
    "reg_summary = pd.DataFrame([['Bias'],['SAT'],['Rand 1,2,3']], columns=['Features'])\n",
    "#Let create a new series in the dataframe called weights\n",
    "#Weights will include the intercepts and 2 coefficients\n",
    "reg_summary['Weights'] = reg.intercept_, reg.coef_[0],reg.coef_[1]\n",
    "reg_summary"
   ]
  },
  {
   "cell_type": "code",
   "execution_count": 36,
   "id": "85d8a676",
   "metadata": {},
   "outputs": [],
   "source": [
    "#if the value is less than 0.05 they are useless. "
   ]
  },
  {
   "cell_type": "markdown",
   "id": "5111fc8f",
   "metadata": {},
   "source": [
    "#### Making predictions and the standardized coefficients (weights)"
   ]
  },
  {
   "cell_type": "code",
   "execution_count": 37,
   "id": "e36fb31e",
   "metadata": {},
   "outputs": [
    {
     "data": {
      "text/html": [
       "<div>\n",
       "<style scoped>\n",
       "    .dataframe tbody tr th:only-of-type {\n",
       "        vertical-align: middle;\n",
       "    }\n",
       "\n",
       "    .dataframe tbody tr th {\n",
       "        vertical-align: top;\n",
       "    }\n",
       "\n",
       "    .dataframe thead th {\n",
       "        text-align: right;\n",
       "    }\n",
       "</style>\n",
       "<table border=\"1\" class=\"dataframe\">\n",
       "  <thead>\n",
       "    <tr style=\"text-align: right;\">\n",
       "      <th></th>\n",
       "      <th>SAT</th>\n",
       "      <th>Rand 1,2,3</th>\n",
       "    </tr>\n",
       "  </thead>\n",
       "  <tbody>\n",
       "    <tr>\n",
       "      <th>0</th>\n",
       "      <td>1700</td>\n",
       "      <td>2</td>\n",
       "    </tr>\n",
       "    <tr>\n",
       "      <th>1</th>\n",
       "      <td>1800</td>\n",
       "      <td>1</td>\n",
       "    </tr>\n",
       "  </tbody>\n",
       "</table>\n",
       "</div>"
      ],
      "text/plain": [
       "    SAT  Rand 1,2,3\n",
       "0  1700           2\n",
       "1  1800           1"
      ]
     },
     "execution_count": 37,
     "metadata": {},
     "output_type": "execute_result"
    }
   ],
   "source": [
    "#Let say we a student that scored a 1700 on the SAT and was assigned a 2 randomly\n",
    "#We also had another student 1800, 1.\n",
    "\n",
    "#we have to format the data like X\n",
    "new_data = pd.DataFrame(data=[[1700,2],[1800,1]],columns=['SAT','Rand 1,2,3'])\n",
    "new_data"
   ]
  },
  {
   "cell_type": "code",
   "execution_count": 38,
   "id": "1a2b5f04",
   "metadata": {
    "scrolled": true
   },
   "outputs": [
    {
     "name": "stderr",
     "output_type": "stream",
     "text": [
      "C:\\Users\\FARAH\\anaconda3\\lib\\site-packages\\sklearn\\base.py:443: UserWarning: X has feature names, but LinearRegression was fitted without feature names\n",
      "  warnings.warn(\n"
     ]
    },
    {
     "data": {
      "text/plain": [
       "array([295.39979563, 312.58821497])"
      ]
     },
     "execution_count": 38,
     "metadata": {},
     "output_type": "execute_result"
    }
   ],
   "source": [
    "#Lets predict the new value (GPA)\n",
    "#We can simply call the predict method on the regression \n",
    "#and then specify the new inputs as an argument.\n",
    "reg.predict(new_data)           #we are usign the reg model \n",
    "                             #reg model is expecting standardized inputs\n",
    "                             #our input magnitude is large"
   ]
  },
  {
   "cell_type": "markdown",
   "id": "51b8953c",
   "metadata": {},
   "source": [
    "#### This is not a GPA.  \n",
    "THis happened because oure regression model was tranined on standardized inputs --> the x_scaled data. It expects values that are of the same magnitude as the ones used in the training process.\n",
    "\n",
    "The input data must be formatted like X and it must be standardized in the same way with the same mean and standard deviation which we have stored in the scaler object."
   ]
  },
  {
   "cell_type": "code",
   "execution_count": 39,
   "id": "2ee97889",
   "metadata": {},
   "outputs": [
    {
     "data": {
      "text/plain": [
       "array([[-1.39811928, -0.07002087],\n",
       "       [-0.43571643, -1.24637147]])"
      ]
     },
     "execution_count": 39,
     "metadata": {},
     "output_type": "execute_result"
    }
   ],
   "source": [
    "#lets transform this data\n",
    "new_data_scaled = scaler.transform(new_data)\n",
    "new_data_scaled"
   ]
  },
  {
   "cell_type": "code",
   "execution_count": 40,
   "id": "038920bf",
   "metadata": {
    "scrolled": true
   },
   "outputs": [
    {
     "data": {
      "text/plain": [
       "array([3.09051403, 3.26413803])"
      ]
     },
     "execution_count": 40,
     "metadata": {},
     "output_type": "execute_result"
    }
   ],
   "source": [
    "reg.predict(new_data_scaled)"
   ]
  },
  {
   "cell_type": "markdown",
   "id": "0c95313e",
   "metadata": {},
   "source": [
    "##### Our first student is predicted to have a GPA of three point zero nine, while the second three point"
   ]
  },
  {
   "cell_type": "markdown",
   "id": "690a4f29",
   "metadata": {},
   "source": [
    "### What happens if we remove the Rand 1 2 3 feature?"
   ]
  },
  {
   "cell_type": "code",
   "execution_count": 41,
   "id": "4d886e40",
   "metadata": {},
   "outputs": [],
   "source": [
    "#theory suggest nothing will happen\n",
    "#1. Create a new regression\n",
    "reg_simple = LinearRegression()"
   ]
  },
  {
   "cell_type": "code",
   "execution_count": 42,
   "id": "de29d79d",
   "metadata": {},
   "outputs": [],
   "source": [
    "#Create a new variable call X_Simple to contain all observations from \n",
    "#X scale but only include the SAT column\n",
    "x_simple_matrix = x_scaled[:,0]"
   ]
  },
  {
   "cell_type": "code",
   "execution_count": 43,
   "id": "00aa2371",
   "metadata": {},
   "outputs": [
    {
     "data": {
      "text/plain": [
       "(84,)"
      ]
     },
     "execution_count": 43,
     "metadata": {},
     "output_type": "execute_result"
    }
   ],
   "source": [
    "x_simple_matrix.shape"
   ]
  },
  {
   "cell_type": "code",
   "execution_count": 44,
   "id": "95b22612",
   "metadata": {},
   "outputs": [],
   "source": [
    "#make it a matrix with the reshape method\n",
    "x_simple_matrix = x_scaled[:,0].reshape(-1,1)"
   ]
  },
  {
   "cell_type": "code",
   "execution_count": 45,
   "id": "d2c33956",
   "metadata": {},
   "outputs": [
    {
     "data": {
      "text/plain": [
       "(84, 1)"
      ]
     },
     "execution_count": 45,
     "metadata": {},
     "output_type": "execute_result"
    }
   ],
   "source": [
    "x_simple_matrix.shape"
   ]
  },
  {
   "cell_type": "code",
   "execution_count": 46,
   "id": "baf8abef",
   "metadata": {},
   "outputs": [
    {
     "data": {
      "text/plain": [
       "LinearRegression()"
      ]
     },
     "execution_count": 46,
     "metadata": {},
     "output_type": "execute_result"
    }
   ],
   "source": [
    "#fit the regression with inputs\n",
    "reg_simple.fit(x_simple_matrix,y)"
   ]
  },
  {
   "cell_type": "code",
   "execution_count": 50,
   "id": "32bbbd63",
   "metadata": {},
   "outputs": [
    {
     "data": {
      "text/plain": [
       "array([3.08970998, 3.25527879])"
      ]
     },
     "execution_count": 50,
     "metadata": {},
     "output_type": "execute_result"
    }
   ],
   "source": [
    "#Now that it's fitted, we can predict the new data\n",
    "\n",
    "#only feed it the first column SAT because the \n",
    "#regression was trained only on SAT\n",
    "#Must reshape so the code executes properly\n",
    "reg_simple.predict(new_data_scaled[:,0].reshape(-1,1))"
   ]
  },
  {
   "cell_type": "markdown",
   "id": "19f21f2d",
   "metadata": {},
   "source": [
    "    When compared the previous linear regression:\n",
    "        prev:array([3.09051403, 3.26413803])\n",
    "        now: array([3.08970998, 3.25527879])\n",
    "\n",
    "\n",
    "Let's compare it to what we got from our multiple linear regression, the predicted GPA is slightly different, but actually if we round up to two digits after the dot, we get the exact same results,three point zero nine and three point two six.This finding shows us why the developers of K Learn have decided that P values are not needed.When we apply feature scaling, it often does not affect the final result.If we keep or leave out any significant features, the rates will be so close to zero that they will barely influence the predictions."
   ]
  },
  {
   "cell_type": "markdown",
   "id": "22b9f753",
   "metadata": {},
   "source": [
    "## Overfitting and Underfitting"
   ]
  },
  {
   "cell_type": "markdown",
   "id": "3877f69c",
   "metadata": {},
   "source": [
    "\n",
    "Broadly speaking, overfitting means our regression has focused on the particular data set so much it has missed the point.\n",
    "\n",
    "Underfeeding, on the other hand, means the model has not captured the underlying logic of the data."
   ]
  },
  {
   "cell_type": "markdown",
   "id": "373b98cb",
   "metadata": {},
   "source": [
    "There is one popular solution to overfitting, though, we can split their initial data set into two\t\t\t\n",
    "training and test splits, like 90 percent training and 10 percent test or 80, 20 are common.\t\t\t\n",
    "It works like this, we create the regression on the training data after we have the coefficients,\t\t\t\n",
    "we test the model on the test data by assessing the accuracy.\t\t\t\n",
    "\t\t\t\n",
    "The whole point is that the model has never seen the test data set, therefore it cannot overfit on\t\t\t\n",
    "it.\t\t\t\n",
    "\t\t\t\n",
    "\t\t\t\n",
    "\t\t\t\n",
    "\t\t\t\n",
    "\t\t\t\n",
    "\t\t\t\n",
    "\t\t\t\n",
    "\t\t\t\n",
    "\t\t\t"
   ]
  },
  {
   "cell_type": "code",
   "execution_count": null,
   "id": "256bfe7e",
   "metadata": {},
   "outputs": [],
   "source": []
  }
 ],
 "metadata": {
  "kernelspec": {
   "display_name": "Python 3 (ipykernel)",
   "language": "python",
   "name": "python3"
  },
  "language_info": {
   "codemirror_mode": {
    "name": "ipython",
    "version": 3
   },
   "file_extension": ".py",
   "mimetype": "text/x-python",
   "name": "python",
   "nbconvert_exporter": "python",
   "pygments_lexer": "ipython3",
   "version": "3.9.12"
  }
 },
 "nbformat": 4,
 "nbformat_minor": 5
}
