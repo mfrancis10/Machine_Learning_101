{
 "cells": [
  {
   "cell_type": "code",
   "execution_count": 1,
   "id": "d4bac599",
   "metadata": {},
   "outputs": [],
   "source": [
    "# Import pandas for data processing\n",
    "import pandas as pd\n",
    "# Fit and Transform the data for MinMax normalization\n",
    "from sklearn.preprocessing import minmax_scale\n",
    "\n",
    "# import KMeans for clustering\n",
    "from sklearn.cluster import KMeans\n",
    "\n",
    "import matplotlib.pyplot as plt\n"
   ]
  },
  {
   "cell_type": "code",
   "execution_count": 2,
   "id": "370a1470",
   "metadata": {},
   "outputs": [],
   "source": [
    "\n",
    "# Read the dataset\n",
    "dataset = pd.read_csv(\"studentclusters.csv\")\n",
    "X = dataset.copy()"
   ]
  },
  {
   "cell_type": "code",
   "execution_count": 3,
   "id": "36cfbf6e",
   "metadata": {},
   "outputs": [
    {
     "data": {
      "text/plain": [
       "<AxesSubplot:xlabel='marks', ylabel='shours'>"
      ]
     },
     "execution_count": 3,
     "metadata": {},
     "output_type": "execute_result"
    },
    {
     "data": {
      "image/png": "[encoded data removed]",
      "text/plain": [
       "<Figure size 432x288 with 1 Axes>"
      ]
     },
     "metadata": {
      "needs_background": "light"
     },
     "output_type": "display_data"
    }
   ],
   "source": [
    "\n",
    "# Visualise the data using Scatter plot\n",
    "X.plot.scatter(x='marks', y='shours')"
   ]
  },
  {
   "cell_type": "code",
   "execution_count": 4,
   "id": "235f5bf2",
   "metadata": {},
   "outputs": [],
   "source": [
    "\n",
    "X_scaled = minmax_scale(X)"
   ]
  },
  {
   "cell_type": "code",
   "execution_count": 15,
   "id": "7dc390be",
   "metadata": {},
   "outputs": [],
   "source": [
    "\n",
    "kmeans = KMeans(n_clusters=3, random_state=1234)"
   ]
  },
  {
   "cell_type": "code",
   "execution_count": 16,
   "id": "47994a3e",
   "metadata": {
    "scrolled": true
   },
   "outputs": [
    {
     "data": {
      "text/plain": [
       "KMeans(n_clusters=3, random_state=1234)"
      ]
     },
     "execution_count": 16,
     "metadata": {},
     "output_type": "execute_result"
    }
   ],
   "source": [
    "#fit the data to get the clusters\n",
    "kmeans.fit(X_scaled)"
   ]
  },
  {
   "cell_type": "markdown",
   "id": "9f1a73f9",
   "metadata": {},
   "source": [
    "ref:https://scikit-learn.org/stable/modules/generated/sklearn.cluster.KMeans.html#sklearn.cluster.KMeans\n",
    "Attributes:\n",
    "cluster_centers_ndarray of shape (n_clusters, n_features)\n",
    "Coordinates of cluster centers. If the algorithm stops before fully converging (see tol and max_iter), these will not be consistent with labels_.\n",
    "\n",
    "labels_ndarray of shape (n_samples,)\n",
    "Labels of each point"
   ]
  },
  {
   "cell_type": "code",
   "execution_count": 17,
   "id": "aae900e4",
   "metadata": {
    "scrolled": true
   },
   "outputs": [
    {
     "data": {
      "text/plain": [
       "array([1, 2, 1, 1, 2, 2, 1, 2, 1, 1, 1, 1, 2, 1, 2, 2, 2, 2, 2, 1, 2, 1,\n",
       "       2, 1, 2, 0, 2, 2, 2, 2, 0, 0, 1, 0, 2, 0, 2, 2, 2, 1, 0, 2, 1, 2,\n",
       "       1, 2, 2, 0, 1])"
      ]
     },
     "execution_count": 17,
     "metadata": {},
     "output_type": "execute_result"
    }
   ],
   "source": [
    "#how do you know which data point has gone to which cluster?\n",
    "#cluster_center\n",
    "labels = kmeans.labels_\n",
    "labels"
   ]
  },
  {
   "cell_type": "markdown",
   "id": "f8881d4f",
   "metadata": {},
   "source": [
    "Specified 3 clusters so will see cluster 0,1, and 2 "
   ]
  },
  {
   "cell_type": "markdown",
   "id": "fb33ac93",
   "metadata": {},
   "source": [
    "#visualize usign scatter plot to see how they have been formed using pandas scatter plot\n"
   ]
  },
  {
   "cell_type": "code",
   "execution_count": 22,
   "id": "194e9b0b",
   "metadata": {
    "scrolled": true
   },
   "outputs": [
    {
     "data": {
      "text/html": [
       "<div>\n",
       "<style scoped>\n",
       "    .dataframe tbody tr th:only-of-type {\n",
       "        vertical-align: middle;\n",
       "    }\n",
       "\n",
       "    .dataframe tbody tr th {\n",
       "        vertical-align: top;\n",
       "    }\n",
       "\n",
       "    .dataframe thead th {\n",
       "        text-align: right;\n",
       "    }\n",
       "</style>\n",
       "<table border=\"1\" class=\"dataframe\">\n",
       "  <thead>\n",
       "    <tr style=\"text-align: right;\">\n",
       "      <th></th>\n",
       "      <th>marks</th>\n",
       "      <th>shours</th>\n",
       "      <th>0</th>\n",
       "    </tr>\n",
       "  </thead>\n",
       "  <tbody>\n",
       "    <tr>\n",
       "      <th>0</th>\n",
       "      <td>72</td>\n",
       "      <td>20.0</td>\n",
       "      <td>1</td>\n",
       "    </tr>\n",
       "    <tr>\n",
       "      <th>1</th>\n",
       "      <td>42</td>\n",
       "      <td>19.0</td>\n",
       "      <td>2</td>\n",
       "    </tr>\n",
       "    <tr>\n",
       "      <th>2</th>\n",
       "      <td>77</td>\n",
       "      <td>7.0</td>\n",
       "      <td>1</td>\n",
       "    </tr>\n",
       "    <tr>\n",
       "      <th>3</th>\n",
       "      <td>93</td>\n",
       "      <td>22.0</td>\n",
       "      <td>1</td>\n",
       "    </tr>\n",
       "    <tr>\n",
       "      <th>4</th>\n",
       "      <td>30</td>\n",
       "      <td>20.0</td>\n",
       "      <td>2</td>\n",
       "    </tr>\n",
       "    <tr>\n",
       "      <th>5</th>\n",
       "      <td>53</td>\n",
       "      <td>15.0</td>\n",
       "      <td>2</td>\n",
       "    </tr>\n",
       "    <tr>\n",
       "      <th>6</th>\n",
       "      <td>74</td>\n",
       "      <td>8.0</td>\n",
       "      <td>1</td>\n",
       "    </tr>\n",
       "    <tr>\n",
       "      <th>7</th>\n",
       "      <td>28</td>\n",
       "      <td>24.0</td>\n",
       "      <td>2</td>\n",
       "    </tr>\n",
       "    <tr>\n",
       "      <th>8</th>\n",
       "      <td>69</td>\n",
       "      <td>26.0</td>\n",
       "      <td>1</td>\n",
       "    </tr>\n",
       "    <tr>\n",
       "      <th>9</th>\n",
       "      <td>64</td>\n",
       "      <td>7.0</td>\n",
       "      <td>1</td>\n",
       "    </tr>\n",
       "    <tr>\n",
       "      <th>10</th>\n",
       "      <td>87</td>\n",
       "      <td>30.0</td>\n",
       "      <td>1</td>\n",
       "    </tr>\n",
       "    <tr>\n",
       "      <th>11</th>\n",
       "      <td>70</td>\n",
       "      <td>8.0</td>\n",
       "      <td>1</td>\n",
       "    </tr>\n",
       "    <tr>\n",
       "      <th>12</th>\n",
       "      <td>42</td>\n",
       "      <td>18.0</td>\n",
       "      <td>2</td>\n",
       "    </tr>\n",
       "    <tr>\n",
       "      <th>13</th>\n",
       "      <td>79</td>\n",
       "      <td>23.0</td>\n",
       "      <td>1</td>\n",
       "    </tr>\n",
       "    <tr>\n",
       "      <th>14</th>\n",
       "      <td>37</td>\n",
       "      <td>22.0</td>\n",
       "      <td>2</td>\n",
       "    </tr>\n",
       "    <tr>\n",
       "      <th>15</th>\n",
       "      <td>52</td>\n",
       "      <td>16.0</td>\n",
       "      <td>2</td>\n",
       "    </tr>\n",
       "    <tr>\n",
       "      <th>16</th>\n",
       "      <td>51</td>\n",
       "      <td>15.0</td>\n",
       "      <td>2</td>\n",
       "    </tr>\n",
       "    <tr>\n",
       "      <th>17</th>\n",
       "      <td>25</td>\n",
       "      <td>23.0</td>\n",
       "      <td>2</td>\n",
       "    </tr>\n",
       "    <tr>\n",
       "      <th>18</th>\n",
       "      <td>48</td>\n",
       "      <td>17.0</td>\n",
       "      <td>2</td>\n",
       "    </tr>\n",
       "    <tr>\n",
       "      <th>19</th>\n",
       "      <td>85</td>\n",
       "      <td>21.0</td>\n",
       "      <td>1</td>\n",
       "    </tr>\n",
       "    <tr>\n",
       "      <th>20</th>\n",
       "      <td>22</td>\n",
       "      <td>21.0</td>\n",
       "      <td>2</td>\n",
       "    </tr>\n",
       "    <tr>\n",
       "      <th>21</th>\n",
       "      <td>63</td>\n",
       "      <td>7.5</td>\n",
       "      <td>1</td>\n",
       "    </tr>\n",
       "    <tr>\n",
       "      <th>22</th>\n",
       "      <td>42</td>\n",
       "      <td>17.0</td>\n",
       "      <td>2</td>\n",
       "    </tr>\n",
       "    <tr>\n",
       "      <th>23</th>\n",
       "      <td>60</td>\n",
       "      <td>15.0</td>\n",
       "      <td>1</td>\n",
       "    </tr>\n",
       "    <tr>\n",
       "      <th>24</th>\n",
       "      <td>56</td>\n",
       "      <td>18.0</td>\n",
       "      <td>2</td>\n",
       "    </tr>\n",
       "    <tr>\n",
       "      <th>25</th>\n",
       "      <td>23</td>\n",
       "      <td>5.0</td>\n",
       "      <td>0</td>\n",
       "    </tr>\n",
       "    <tr>\n",
       "      <th>26</th>\n",
       "      <td>42</td>\n",
       "      <td>16.0</td>\n",
       "      <td>2</td>\n",
       "    </tr>\n",
       "    <tr>\n",
       "      <th>27</th>\n",
       "      <td>40</td>\n",
       "      <td>14.0</td>\n",
       "      <td>2</td>\n",
       "    </tr>\n",
       "    <tr>\n",
       "      <th>28</th>\n",
       "      <td>28</td>\n",
       "      <td>27.0</td>\n",
       "      <td>2</td>\n",
       "    </tr>\n",
       "    <tr>\n",
       "      <th>29</th>\n",
       "      <td>47</td>\n",
       "      <td>17.0</td>\n",
       "      <td>2</td>\n",
       "    </tr>\n",
       "    <tr>\n",
       "      <th>30</th>\n",
       "      <td>25</td>\n",
       "      <td>3.0</td>\n",
       "      <td>0</td>\n",
       "    </tr>\n",
       "    <tr>\n",
       "      <th>31</th>\n",
       "      <td>31</td>\n",
       "      <td>4.0</td>\n",
       "      <td>0</td>\n",
       "    </tr>\n",
       "    <tr>\n",
       "      <th>32</th>\n",
       "      <td>63</td>\n",
       "      <td>9.0</td>\n",
       "      <td>1</td>\n",
       "    </tr>\n",
       "    <tr>\n",
       "      <th>33</th>\n",
       "      <td>34</td>\n",
       "      <td>2.0</td>\n",
       "      <td>0</td>\n",
       "    </tr>\n",
       "    <tr>\n",
       "      <th>34</th>\n",
       "      <td>49</td>\n",
       "      <td>14.0</td>\n",
       "      <td>2</td>\n",
       "    </tr>\n",
       "    <tr>\n",
       "      <th>35</th>\n",
       "      <td>23</td>\n",
       "      <td>2.0</td>\n",
       "      <td>0</td>\n",
       "    </tr>\n",
       "    <tr>\n",
       "      <th>36</th>\n",
       "      <td>56</td>\n",
       "      <td>16.0</td>\n",
       "      <td>2</td>\n",
       "    </tr>\n",
       "    <tr>\n",
       "      <th>37</th>\n",
       "      <td>45</td>\n",
       "      <td>14.0</td>\n",
       "      <td>2</td>\n",
       "    </tr>\n",
       "    <tr>\n",
       "      <th>38</th>\n",
       "      <td>53</td>\n",
       "      <td>16.0</td>\n",
       "      <td>2</td>\n",
       "    </tr>\n",
       "    <tr>\n",
       "      <th>39</th>\n",
       "      <td>73</td>\n",
       "      <td>10.0</td>\n",
       "      <td>1</td>\n",
       "    </tr>\n",
       "    <tr>\n",
       "      <th>40</th>\n",
       "      <td>22</td>\n",
       "      <td>4.0</td>\n",
       "      <td>0</td>\n",
       "    </tr>\n",
       "    <tr>\n",
       "      <th>41</th>\n",
       "      <td>52</td>\n",
       "      <td>18.0</td>\n",
       "      <td>2</td>\n",
       "    </tr>\n",
       "    <tr>\n",
       "      <th>42</th>\n",
       "      <td>64</td>\n",
       "      <td>23.0</td>\n",
       "      <td>1</td>\n",
       "    </tr>\n",
       "    <tr>\n",
       "      <th>43</th>\n",
       "      <td>42</td>\n",
       "      <td>16.0</td>\n",
       "      <td>2</td>\n",
       "    </tr>\n",
       "    <tr>\n",
       "      <th>44</th>\n",
       "      <td>82</td>\n",
       "      <td>26.0</td>\n",
       "      <td>1</td>\n",
       "    </tr>\n",
       "    <tr>\n",
       "      <th>45</th>\n",
       "      <td>40</td>\n",
       "      <td>17.0</td>\n",
       "      <td>2</td>\n",
       "    </tr>\n",
       "    <tr>\n",
       "      <th>46</th>\n",
       "      <td>40</td>\n",
       "      <td>16.0</td>\n",
       "      <td>2</td>\n",
       "    </tr>\n",
       "    <tr>\n",
       "      <th>47</th>\n",
       "      <td>20</td>\n",
       "      <td>5.0</td>\n",
       "      <td>0</td>\n",
       "    </tr>\n",
       "    <tr>\n",
       "      <th>48</th>\n",
       "      <td>81</td>\n",
       "      <td>21.0</td>\n",
       "      <td>1</td>\n",
       "    </tr>\n",
       "  </tbody>\n",
       "</table>\n",
       "</div>"
      ],
      "text/plain": [
       "    marks  shours  0\n",
       "0      72    20.0  1\n",
       "1      42    19.0  2\n",
       "2      77     7.0  1\n",
       "3      93    22.0  1\n",
       "4      30    20.0  2\n",
       "5      53    15.0  2\n",
       "6      74     8.0  1\n",
       "7      28    24.0  2\n",
       "8      69    26.0  1\n",
       "9      64     7.0  1\n",
       "10     87    30.0  1\n",
       "11     70     8.0  1\n",
       "12     42    18.0  2\n",
       "13     79    23.0  1\n",
       "14     37    22.0  2\n",
       "15     52    16.0  2\n",
       "16     51    15.0  2\n",
       "17     25    23.0  2\n",
       "18     48    17.0  2\n",
       "19     85    21.0  1\n",
       "20     22    21.0  2\n",
       "21     63     7.5  1\n",
       "22     42    17.0  2\n",
       "23     60    15.0  1\n",
       "24     56    18.0  2\n",
       "25     23     5.0  0\n",
       "26     42    16.0  2\n",
       "27     40    14.0  2\n",
       "28     28    27.0  2\n",
       "29     47    17.0  2\n",
       "30     25     3.0  0\n",
       "31     31     4.0  0\n",
       "32     63     9.0  1\n",
       "33     34     2.0  0\n",
       "34     49    14.0  2\n",
       "35     23     2.0  0\n",
       "36     56    16.0  2\n",
       "37     45    14.0  2\n",
       "38     53    16.0  2\n",
       "39     73    10.0  1\n",
       "40     22     4.0  0\n",
       "41     52    18.0  2\n",
       "42     64    23.0  1\n",
       "43     42    16.0  2\n",
       "44     82    26.0  1\n",
       "45     40    17.0  2\n",
       "46     40    16.0  2\n",
       "47     20     5.0  0\n",
       "48     81    21.0  1"
      ]
     },
     "execution_count": 22,
     "metadata": {},
     "output_type": "execute_result"
    }
   ],
   "source": [
    "# Visualise the clusters\n",
    "labels = pd.DataFrame(labels)\n",
    "df = pd.concat([X, labels], axis=1)\n",
    "df"
   ]
  },
  {
   "cell_type": "code",
   "execution_count": 24,
   "id": "960ef6d6",
   "metadata": {},
   "outputs": [],
   "source": [
    "df = df.rename(columns={0:'label'})"
   ]
  },
  {
   "cell_type": "code",
   "execution_count": 29,
   "id": "fd9bdb74",
   "metadata": {
    "scrolled": false
   },
   "outputs": [
    {
     "data": {
      "text/plain": [
       "<AxesSubplot:xlabel='marks', ylabel='shours'>"
      ]
     },
     "execution_count": 29,
     "metadata": {},
     "output_type": "execute_result"
    },
    {
     "data": {
      "image/png": "[encoded data removed]",
      "text/plain": [
       "<Figure size 432x288 with 2 Axes>"
      ]
     },
     "metadata": {
      "needs_background": "light"
     },
     "output_type": "display_data"
    }
   ],
   "source": [
    "#scatter plot to view which data point has gone to which cluster based\n",
    "#on label values\n",
    "#matplotlib colormap:\n",
    "#colormap:Set1 - based on label values, change the color and provide color map\n",
    "\n",
    "df.plot.scatter(x='marks', y='shours', c='label', colormap='Set1')"
   ]
  },
  {
   "cell_type": "markdown",
   "id": "9fc94f04",
   "metadata": {},
   "source": [
    "the letter the distance from the point and centriod, the better the relationship and explaination of the data"
   ]
  },
  {
   "cell_type": "code",
   "execution_count": 34,
   "id": "afb9c92c",
   "metadata": {},
   "outputs": [],
   "source": [
    "#we have choosen 3 clusters.  Let change the number to 5\n",
    "kmeans = KMeans(n_clusters=5, random_state=1234)"
   ]
  },
  {
   "cell_type": "code",
   "execution_count": 35,
   "id": "ce1db9ef",
   "metadata": {
    "scrolled": false
   },
   "outputs": [
    {
     "data": {
      "text/plain": [
       "<AxesSubplot:xlabel='marks', ylabel='shours'>"
      ]
     },
     "execution_count": 35,
     "metadata": {},
     "output_type": "execute_result"
    },
    {
     "data": {
      "image/png": "[encoded data removed]",
      "text/plain": [
       "<Figure size 432x288 with 2 Axes>"
      ]
     },
     "metadata": {
      "needs_background": "light"
     },
     "output_type": "display_data"
    }
   ],
   "source": [
    "\n",
    "#fit the data to get the clusters\n",
    "kmeans.fit(X_scaled)\n",
    "\n",
    "labels = kmeans.labels_\n",
    "labels = pd.DataFrame(labels)\n",
    "df = pd.concat([X, labels], axis=1)\n",
    "df = df.rename(columns={0:'label'})\n",
    "########################\n",
    "#trial and error\n",
    "#################\n",
    "#this works better but its not feasible or practical to run this type of\n",
    "#trial and error\n",
    "df.plot.scatter(x='marks', y='shours', c='label', colormap='Set1')"
   ]
  },
  {
   "cell_type": "markdown",
   "id": "d5e9ba6d",
   "metadata": {},
   "source": [
    "#as we add more signs and features we need a scientific method to decide\n",
    "#the number of clusters: elbow method\n",
    "\n",
    "#create multple cluster and measure distnace, square and take the sum of square\n",
    "#distances -- this is call inertia.\n",
    "\n",
    "Higher number of clusters --> lesser sum of squared distance(inertia)\n",
    "Inertia will equal 0 if you have a cluster for every observation"
   ]
  },
  {
   "cell_type": "code",
   "execution_count": 36,
   "id": "2c2dd4eb",
   "metadata": {},
   "outputs": [
    {
     "data": {
      "text/plain": [
       "<AxesSubplot:xlabel='marks', ylabel='shours'>"
      ]
     },
     "execution_count": 36,
     "metadata": {},
     "output_type": "execute_result"
    }
   ],
   "source": [
    "\n",
    "# Fit the input data. Create labels and get inertia\n",
    "\n",
    "inertia = kmeans.inertia_\n",
    "_"
   ]
  },
  {
   "cell_type": "code",
   "execution_count": 43,
   "id": "aed740e4",
   "metadata": {},
   "outputs": [],
   "source": [
    "\n",
    "# Elbow method to determine optimum clusters\n",
    "#create array up to 15 clusters\n",
    "\n",
    "#store the value of inertia in a list\n",
    "inertia = []\n",
    "\n",
    "for i in range(2,16):\n",
    "    kmeans = KMeans(n_clusters=i)\n",
    "    kmeans.fit(X_scaled)   \n",
    "    \n",
    "    #append value to the list\n",
    "    inertia.append(kmeans.inertia_)  \n",
    "    \n",
    "\n"
   ]
  },
  {
   "cell_type": "code",
   "execution_count": 48,
   "id": "263662cd",
   "metadata": {
    "scrolled": true
   },
   "outputs": [
    {
     "data": {
      "text/plain": [
       "Text(0, 0.5, 'Squared Sum (Inertia)')"
      ]
     },
     "execution_count": 48,
     "metadata": {},
     "output_type": "execute_result"
    },
    {
     "data": {
      "image/png": "[encoded data removed]",
      "text/plain": [
       "<Figure size 432x288 with 1 Axes>"
      ]
     },
     "metadata": {
      "needs_background": "light"
     },
     "output_type": "display_data"
    }
   ],
   "source": [
    "#plot usign matplotlib\n",
    "\n",
    "#plot range the same as the range in the for loop\n",
    "\n",
    "#y-axis=inertia\n",
    "#x-axis = use o as the marker\n",
    "plt.plot(range(2,16), inertia, marker='o')\n",
    "plt.title('Elbow Curve')\n",
    "plt.xlabel('Number of Clusters')\n",
    "plt.ylabel('Squared Sum (Inertia)')"
   ]
  },
  {
   "cell_type": "markdown",
   "id": "1502f884",
   "metadata": {},
   "source": [
    "Notice the drop is not significant after 5.  5 is the ultimate number of clusters for the input data"
   ]
  },
  {
   "cell_type": "code",
   "execution_count": null,
   "id": "0f190271",
   "metadata": {},
   "outputs": [],
   "source": []
  }
 ],
 "metadata": {
  "kernelspec": {
   "display_name": "Python 3 (ipykernel)",
   "language": "python",
   "name": "python3"
  },
  "language_info": {
   "codemirror_mode": {
    "name": "ipython",
    "version": 3
   },
   "file_extension": ".py",
   "mimetype": "text/x-python",
   "name": "python",
   "nbconvert_exporter": "python",
   "pygments_lexer": "ipython3",
   "version": "3.9.12"
  }
 },
 "nbformat": 4,
 "nbformat_minor": 5
}
