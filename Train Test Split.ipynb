{
 "cells": [
  {
   "cell_type": "markdown",
   "id": "c4964548",
   "metadata": {},
   "source": [
    "we suggested that it makes sense to split our data into two parts training and testing, we train the model on the training data set and then check how well it behaves on the testing one.\n",
    "\n",
    "Ultimately, we are trying to avoid the scenario where the model learns to predict the training data very well, but fails miserably when given new samples. So we know why we need to split our data."
   ]
  },
  {
   "cell_type": "markdown",
   "id": "5724107c",
   "metadata": {},
   "source": [
    "### Train Test Split"
   ]
  },
  {
   "cell_type": "markdown",
   "id": "4b683dd7",
   "metadata": {},
   "source": [
    "#### Import relevant libaries\n",
    "\n"
   ]
  },
  {
   "cell_type": "code",
   "execution_count": 2,
   "id": "51f7a841",
   "metadata": {},
   "outputs": [],
   "source": [
    "import numpy as np\n",
    "from sklearn.model_selection import train_test_split"
   ]
  },
  {
   "cell_type": "markdown",
   "id": "3c00c282",
   "metadata": {},
   "source": [
    "#### Generate some data we are going to split"
   ]
  },
  {
   "cell_type": "code",
   "execution_count": 3,
   "id": "14c7acb7",
   "metadata": {},
   "outputs": [],
   "source": [
    "#result and input in an array ranging form 1-100\n",
    "a = np.arange(1,101)"
   ]
  },
  {
   "cell_type": "code",
   "execution_count": 39,
   "id": "6121cd03",
   "metadata": {},
   "outputs": [
    {
     "data": {
      "text/plain": [
       "(100,)"
      ]
     },
     "execution_count": 39,
     "metadata": {},
     "output_type": "execute_result"
    }
   ],
   "source": [
    "a.shape"
   ]
  },
  {
   "cell_type": "code",
   "execution_count": 4,
   "id": "b708f72c",
   "metadata": {},
   "outputs": [
    {
     "data": {
      "text/plain": [
       "array([  1,   2,   3,   4,   5,   6,   7,   8,   9,  10,  11,  12,  13,\n",
       "        14,  15,  16,  17,  18,  19,  20,  21,  22,  23,  24,  25,  26,\n",
       "        27,  28,  29,  30,  31,  32,  33,  34,  35,  36,  37,  38,  39,\n",
       "        40,  41,  42,  43,  44,  45,  46,  47,  48,  49,  50,  51,  52,\n",
       "        53,  54,  55,  56,  57,  58,  59,  60,  61,  62,  63,  64,  65,\n",
       "        66,  67,  68,  69,  70,  71,  72,  73,  74,  75,  76,  77,  78,\n",
       "        79,  80,  81,  82,  83,  84,  85,  86,  87,  88,  89,  90,  91,\n",
       "        92,  93,  94,  95,  96,  97,  98,  99, 100])"
      ]
     },
     "execution_count": 4,
     "metadata": {},
     "output_type": "execute_result"
    }
   ],
   "source": [
    "a"
   ]
  },
  {
   "cell_type": "code",
   "execution_count": 40,
   "id": "b6030daa",
   "metadata": {
    "scrolled": true
   },
   "outputs": [
    {
     "data": {
      "text/plain": [
       "(100,)"
      ]
     },
     "execution_count": 40,
     "metadata": {},
     "output_type": "execute_result"
    }
   ],
   "source": [
    "b = np.arange(501,601)\n",
    "b.shape"
   ]
  },
  {
   "cell_type": "code",
   "execution_count": 41,
   "id": "f830a0c3",
   "metadata": {},
   "outputs": [
    {
     "data": {
      "text/plain": [
       "array([501, 502, 503, 504, 505, 506, 507, 508, 509, 510, 511, 512, 513,\n",
       "       514, 515, 516, 517, 518, 519, 520, 521, 522, 523, 524, 525, 526,\n",
       "       527, 528, 529, 530, 531, 532, 533, 534, 535, 536, 537, 538, 539,\n",
       "       540, 541, 542, 543, 544, 545, 546, 547, 548, 549, 550, 551, 552,\n",
       "       553, 554, 555, 556, 557, 558, 559, 560, 561, 562, 563, 564, 565,\n",
       "       566, 567, 568, 569, 570, 571, 572, 573, 574, 575, 576, 577, 578,\n",
       "       579, 580, 581, 582, 583, 584, 585, 586, 587, 588, 589, 590, 591,\n",
       "       592, 593, 594, 595, 596, 597, 598, 599, 600])"
      ]
     },
     "execution_count": 41,
     "metadata": {},
     "output_type": "execute_result"
    }
   ],
   "source": [
    "b"
   ]
  },
  {
   "cell_type": "markdown",
   "id": "1c731666",
   "metadata": {},
   "source": [
    "#### Split the data"
   ]
  },
  {
   "cell_type": "code",
   "execution_count": null,
   "id": "08393363",
   "metadata": {},
   "outputs": [],
   "source": [
    "#It takes an array and splits it into two arrays.\n",
    "\n",
    "#And easy is that let's write train test split of a \n",
    "#and run the cell exactly as we anticipated.\n",
    "\n",
    "#In general, we would prefer storing the result in \n",
    "#dedicated variables so we can write a train comma.\n",
    "\n",
    "train_test_split(a)"
   ]
  },
  {
   "cell_type": "code",
   "execution_count": null,
   "id": "a287ff12",
   "metadata": {},
   "outputs": [],
   "source": [
    "#In general, we would prefer storing the result in dedicated \n",
    "#variables so we can write a train comma.\n",
    "\n",
    "#A test equals train test split of a.\n",
    "\n",
    "#The first array is always considered to be the training array,\n",
    "#while the second the testing one, let's\n",
    "\n",
    "a_train, a_test = train_test_split(a)"
   ]
  },
  {
   "cell_type": "code",
   "execution_count": null,
   "id": "51f709ff",
   "metadata": {},
   "outputs": [],
   "source": [
    "a_train.shape, a_test.shape"
   ]
  },
  {
   "cell_type": "markdown",
   "id": "494b10ff",
   "metadata": {},
   "source": [
    "75(training)-25(testing) is not an optimal split for my work, as I really don't like dedicating so much of my data to testing to amend this, we can use an argument called test size and set it to offload between zero and one.\n",
    "\n",
    "Therefore, to achieve an 80 20 split, we need to simply include test size equals zero point to going through the cells below."
   ]
  },
  {
   "cell_type": "code",
   "execution_count": null,
   "id": "71343e70",
   "metadata": {},
   "outputs": [],
   "source": [
    "a_train, a_test = train_test_split(a, test_size=0.2)"
   ]
  },
  {
   "cell_type": "markdown",
   "id": "11f458f6",
   "metadata": {},
   "source": [
    "#### Explore the result"
   ]
  },
  {
   "cell_type": "code",
   "execution_count": null,
   "id": "e1d9b27a",
   "metadata": {},
   "outputs": [],
   "source": [
    "a_train.shape, a_test.shape"
   ]
  },
  {
   "cell_type": "markdown",
   "id": "f45e52fa",
   "metadata": {},
   "source": [
    "I have created a 80-20 split.  80% training , 20% testing"
   ]
  },
  {
   "cell_type": "code",
   "execution_count": null,
   "id": "11f24d78",
   "metadata": {
    "scrolled": true
   },
   "outputs": [],
   "source": [
    "a_train"
   ]
  },
  {
   "cell_type": "code",
   "execution_count": null,
   "id": "814249e8",
   "metadata": {},
   "outputs": [],
   "source": [
    "a_test"
   ]
  },
  {
   "cell_type": "markdown",
   "id": "8a5d60ac",
   "metadata": {},
   "source": [
    "Both arrays are shuffled. They are completely random\n",
    "\n",
    "\n",
    "We prefer our data set to be split without being shuffled. There's an argument called Shuffle, which is set to true by default.\n",
    "\n",
    "Changing that to false would yield a very intuitive result. The first 80 observations of A would be placed in a train while the last 20 in a test.\n",
    " "
   ]
  },
  {
   "cell_type": "code",
   "execution_count": null,
   "id": "088ee4d4",
   "metadata": {},
   "outputs": [],
   "source": [
    "a_train, a_test = train_test_split(a, test_size=0.2, shuffle=False)"
   ]
  },
  {
   "cell_type": "code",
   "execution_count": null,
   "id": "a2087f75",
   "metadata": {
    "scrolled": true
   },
   "outputs": [],
   "source": [
    "a_train"
   ]
  },
  {
   "cell_type": "code",
   "execution_count": null,
   "id": "fac5f91f",
   "metadata": {},
   "outputs": [],
   "source": [
    "a_test"
   ]
  },
  {
   "cell_type": "markdown",
   "id": "362638cf",
   "metadata": {},
   "source": [
    "Most of the time we prefer to shuffle the data.  This removes time, dependencies, day of the week effects and so on.  Usually these are not crucial to causal relationships we are looking for.\n",
    "\n",
    "It can only deteriorate our models, but more on that later on. For now, let's remove the shuffle argument.Now our results are shuffled again, which you may have noticed is that each time we run the code, we get a different shuffle."
   ]
  },
  {
   "cell_type": "code",
   "execution_count": 17,
   "id": "208f5509",
   "metadata": {},
   "outputs": [],
   "source": [
    "a_train, a_test = train_test_split(a, test_size=0.2)\n"
   ]
  },
  {
   "cell_type": "code",
   "execution_count": 18,
   "id": "6873cd9a",
   "metadata": {},
   "outputs": [
    {
     "data": {
      "text/plain": [
       "array([ 25,   2,  66,  63,  51,  50,  42,  92,  46,   7,  17,  35,  31,\n",
       "        47,  94,  90,  36,   1,  65,  64,  27,  62,  52,  29,  84,  60,\n",
       "        70,  75,  45,  86,  80,  30,  11,  99,  24,  13,  74,  73,  96,\n",
       "        69,  10,  87,   3,  15,  54,  18,  78,  97,   5,  41,  21,  72,\n",
       "        85, 100,  16,  40,  71,  93,  57,  33,  12,  19,  53,  79,   8,\n",
       "        83,  95,   9,   6,  89,  26,  91,  77,  23,  55,  48,  20,  81,\n",
       "        32,  67])"
      ]
     },
     "execution_count": 18,
     "metadata": {},
     "output_type": "execute_result"
    }
   ],
   "source": [
    "#each time you run the code, so the data is rearranged \n",
    "a_train"
   ]
  },
  {
   "cell_type": "markdown",
   "id": "4bd82e93",
   "metadata": {},
   "source": [
    "#### So if you are working on your models at home, you'd be creating a different regression on different data each time you run the cells, training a model on different training data, which generally have little impact, but it will have one nonetheless.\n",
    "\n",
    "For instance, your R-squared is likely to change with 1% or 2% points just because of the split.  If you are trying to improve your model with many tiny tweaks, each of which are bringing one or two percent of additional explanatory power, a different shuffle every time would prevent an objective\n",
    "assessment of the changes.\n",
    "\n",
    "In the best case scenario, you would like to have shuffled data but shuffled in the same way every time. Fortunately, Escalon has a random state argument. \n",
    "Let's see it in action. I'll add the random state argument and set it to forty two. Forty two is the conventionally used number by the community a kind of an Internet joke. If we try rerunning the code again and again, we would always get the exact same shuffled split."
   ]
  },
  {
   "cell_type": "code",
   "execution_count": 20,
   "id": "7e779fe2",
   "metadata": {},
   "outputs": [],
   "source": [
    "#42 is the conventionally used number by the community a kind of an Internet joke.\n",
    "a_train, a_test = train_test_split(a, test_size=0.2, random_state=42)"
   ]
  },
  {
   "cell_type": "code",
   "execution_count": 36,
   "id": "d486f944",
   "metadata": {},
   "outputs": [
    {
     "data": {
      "text/plain": [
       "(80,)"
      ]
     },
     "execution_count": 36,
     "metadata": {},
     "output_type": "execute_result"
    }
   ],
   "source": [
    "a_train.shape"
   ]
  },
  {
   "cell_type": "code",
   "execution_count": 37,
   "id": "f7524cf4",
   "metadata": {},
   "outputs": [
    {
     "data": {
      "text/plain": [
       "(20,)"
      ]
     },
     "execution_count": 37,
     "metadata": {},
     "output_type": "execute_result"
    }
   ],
   "source": [
    "a_test.shape"
   ]
  },
  {
   "cell_type": "code",
   "execution_count": 47,
   "id": "ee28a3d6",
   "metadata": {
    "scrolled": true
   },
   "outputs": [],
   "source": [
    "\n",
    "\n",
    "a_train, a_test  = train_test_split(a,  test_size=0.2, random_state=365)"
   ]
  },
  {
   "cell_type": "code",
   "execution_count": 48,
   "id": "a51bb33f",
   "metadata": {},
   "outputs": [
    {
     "data": {
      "text/plain": [
       "((80,), (20,))"
      ]
     },
     "execution_count": 48,
     "metadata": {},
     "output_type": "execute_result"
    }
   ],
   "source": [
    "a_train.shape, a_test.shape"
   ]
  },
  {
   "cell_type": "code",
   "execution_count": 49,
   "id": "000fefe9",
   "metadata": {
    "scrolled": false
   },
   "outputs": [
    {
     "data": {
      "text/plain": [
       "array([ 25,  32,  99,  73,  91,  66,   3,  59,  94,   1,   8,  15,  90,\n",
       "        54,  31,  20,  77,  82,  30,  35,  95,  42,  38,   7,  11,  50,\n",
       "        21,  48,   2,  17,  10,  58,  68,  43,  41,  16,  88,  72,  79,\n",
       "       100,  80,  39,  24,  86,  22,  23,  62,  76,  18,  47,  55,  26,\n",
       "        60,  19,  71,  64,  51,  63,  65,  28,  12,  78,  13,  44,  75,\n",
       "        87,  40,   4,  29,  49,  37,  57,  27,  74,   6,  45,  92,  34,\n",
       "        53,  83])"
      ]
     },
     "execution_count": 49,
     "metadata": {},
     "output_type": "execute_result"
    }
   ],
   "source": [
    "a_train"
   ]
  },
  {
   "cell_type": "code",
   "execution_count": 50,
   "id": "497d2d3e",
   "metadata": {},
   "outputs": [
    {
     "data": {
      "text/plain": [
       "array([ 9, 69, 81, 56, 33, 93, 84, 61, 46, 89, 85, 67, 97,  5, 70, 36, 98,\n",
       "       96, 14, 52])"
      ]
     },
     "execution_count": 50,
     "metadata": {},
     "output_type": "execute_result"
    }
   ],
   "source": [
    "a_test"
   ]
  },
  {
   "cell_type": "markdown",
   "id": "a3803368",
   "metadata": {},
   "source": [
    "Finally, we must note that this method has another convenience.  We can split more than one array at the same time.  Here's where our B array comes into play.  We can simply add B as an argument and include two new variables to store the returned arrays will call them B train and B test.\n",
    "\n",
    "By exploring the shapes and the arrays themselves, we reach a consistent result, a consistently ordered sequence of the numbers from one to 100 while be from five to one to six hundred. Therefore, we can say that the number one from A matches with five A one from B, twenty five from A matches with five, twenty five from B and so on.\n",
    "\n",
    "When we split A and B using the train test split, their elements are shuffled in the same way. Exploring a train and B train, for instance, shows us that they are indeed matching. This is extremely important for regressions because we want to certain observations inputs to match with its target even after shuffling."
   ]
  },
  {
   "cell_type": "code",
   "execution_count": 51,
   "id": "1650734f",
   "metadata": {
    "scrolled": true
   },
   "outputs": [
    {
     "data": {
      "text/plain": [
       "array([ 25,  32,  99,  73,  91,  66,   3,  59,  94,   1,   8,  15,  90,\n",
       "        54,  31,  20,  77,  82,  30,  35,  95,  42,  38,   7,  11,  50,\n",
       "        21,  48,   2,  17,  10,  58,  68,  43,  41,  16,  88,  72,  79,\n",
       "       100,  80,  39,  24,  86,  22,  23,  62,  76,  18,  47,  55,  26,\n",
       "        60,  19,  71,  64,  51,  63,  65,  28,  12,  78,  13,  44,  75,\n",
       "        87,  40,   4,  29,  49,  37,  57,  27,  74,   6,  45,  92,  34,\n",
       "        53,  83])"
      ]
     },
     "execution_count": 51,
     "metadata": {},
     "output_type": "execute_result"
    }
   ],
   "source": [
    "#you can change the random state using a different number\n",
    "# a and be must be the same length -- 100\n",
    "\n",
    "#a_train, a_test  = train_test_split(a, test_size=0.2, random_state=365)\n",
    "a_train, a_test, b_train, b_test  = train_test_split(a, b, test_size=0.2, random_state=365)\n",
    "a_train"
   ]
  },
  {
   "cell_type": "code",
   "execution_count": 12,
   "id": "a0d5acd2",
   "metadata": {},
   "outputs": [
    {
     "data": {
      "text/plain": [
       "array([ 9, 69, 81, 56, 33, 93, 84, 61, 46, 89, 85, 67, 97,  5, 70, 36, 98,\n",
       "       96, 14, 52])"
      ]
     },
     "execution_count": 12,
     "metadata": {},
     "output_type": "execute_result"
    }
   ],
   "source": [
    "a_test"
   ]
  },
  {
   "cell_type": "markdown",
   "id": "8e5884d5",
   "metadata": {},
   "source": [
    "#### You can split more than 1 array at the same time  \n",
    "Here's where our B array comes into play.\n",
    "We can simply add B as an argument and include two new variables \n",
    "to store the returned arrays will call"
   ]
  },
  {
   "cell_type": "code",
   "execution_count": 55,
   "id": "342bd696",
   "metadata": {},
   "outputs": [
    {
     "data": {
      "text/plain": [
       "((80,), (20,))"
      ]
     },
     "execution_count": 55,
     "metadata": {},
     "output_type": "execute_result"
    }
   ],
   "source": [
    "a_train.shape, a_test.shape"
   ]
  },
  {
   "cell_type": "code",
   "execution_count": 56,
   "id": "5a622496",
   "metadata": {
    "scrolled": true
   },
   "outputs": [
    {
     "data": {
      "text/plain": [
       "((80,), (20,))"
      ]
     },
     "execution_count": 56,
     "metadata": {},
     "output_type": "execute_result"
    }
   ],
   "source": [
    "b_train.shape, b_test.shape"
   ]
  },
  {
   "cell_type": "code",
   "execution_count": 57,
   "id": "da2ff520",
   "metadata": {
    "scrolled": true
   },
   "outputs": [
    {
     "data": {
      "text/plain": [
       "array([525, 532, 599, 573, 591, 566, 503, 559, 594, 501, 508, 515, 590,\n",
       "       554, 531, 520, 577, 582, 530, 535, 595, 542, 538, 507, 511, 550,\n",
       "       521, 548, 502, 517, 510, 558, 568, 543, 541, 516, 588, 572, 579,\n",
       "       600, 580, 539, 524, 586, 522, 523, 562, 576, 518, 547, 555, 526,\n",
       "       560, 519, 571, 564, 551, 563, 565, 528, 512, 578, 513, 544, 575,\n",
       "       587, 540, 504, 529, 549, 537, 557, 527, 574, 506, 545, 592, 534,\n",
       "       553, 583])"
      ]
     },
     "execution_count": 57,
     "metadata": {},
     "output_type": "execute_result"
    }
   ],
   "source": [
    "b_train"
   ]
  },
  {
   "cell_type": "code",
   "execution_count": 58,
   "id": "ac64c161",
   "metadata": {},
   "outputs": [
    {
     "data": {
      "text/plain": [
       "array([509, 569, 581, 556, 533, 593, 584, 561, 546, 589, 585, 567, 597,\n",
       "       505, 570, 536, 598, 596, 514, 552])"
      ]
     },
     "execution_count": 58,
     "metadata": {},
     "output_type": "execute_result"
    }
   ],
   "source": [
    "b_test"
   ]
  },
  {
   "cell_type": "markdown",
   "id": "8c93c070",
   "metadata": {},
   "source": [
    "By exploring the shapes and the arrays themselves, we reach a consistent result, a consistently ordered sequence of the numbers for A from 1- 100 while B from 500- 600 six hundred\n",
    "\n",
    "Therefore, we can say that the number one from A matches with five A one from B, twenty five from\n",
    "\n",
    "A matches with five, twenty five from B and so on.\n",
    "\n",
    "When we split A and B using the train test split, their elements are shuffled in the same way.\n",
    "\n",
    "Exploring a train and B train, for instance, shows us that they are indeed matching.\n",
    "\n",
    "This is extremely important for regressions because we want to certain observations inputs to match with its target even after shuffling"
   ]
  },
  {
   "cell_type": "code",
   "execution_count": null,
   "id": "cbb5d31b",
   "metadata": {},
   "outputs": [],
   "source": []
  }
 ],
 "metadata": {
  "kernelspec": {
   "display_name": "Python 3 (ipykernel)",
   "language": "python",
   "name": "python3"
  },
  "language_info": {
   "codemirror_mode": {
    "name": "ipython",
    "version": 3
   },
   "file_extension": ".py",
   "mimetype": "text/x-python",
   "name": "python",
   "nbconvert_exporter": "python",
   "pygments_lexer": "ipython3",
   "version": "3.9.12"
  }
 },
 "nbformat": 4,
 "nbformat_minor": 5
}
